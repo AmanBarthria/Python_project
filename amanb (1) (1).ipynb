{
 "cells": [
  {
   "cell_type": "code",
   "execution_count": 44,
   "id": "6727f1bc-89fa-4323-9cba-9fb408719e77",
   "metadata": {},
   "outputs": [],
   "source": [
    "# Task 1: Create three dataframes (Project, Employee, Seniority) and save as CSV files\n",
    "import pandas as pd\n",
    "import numpy as np \n",
    "# Step 1: import pandas library to handle data\n",
    "# step 2: Create the Project Table as a DataFrame\n",
    "project_df = pd.DataFrame({'ID':['A001', 'A002', 'A003', 'A004', 'A005', 'A002', 'A005', 'A003', 'A001', 'A003', 'A001', 'A004', 'A004', 'A005'],\n",
    "                           'Project': ['Project 1', 'Project 2', 'Project 3', 'Project 4', 'Project 5', 'Project 6', 'Project 7', 'Project 8', 'Project 9', 'Project 10', 'Project 11', 'Project 12', 'Project 13', 'Project 14'],\n",
    "                           'Cost': [1002000, 2000000, 4500000, 5500000, np.nan , 680000, 400000, 350000, np.nan , 300000, 2000000,1000000,3000000, 200000],\n",
    "                           'Status': ['Finished', 'Ongoing', 'Finished', 'Ongoing', 'Finished', 'Failed', 'Finished', 'Failed', 'Ongoing', 'Finished', 'Failed', 'Ongoing', 'Finished', 'Finished']})\n",
    "# step 3: Create the Employee Table as a DataFrame\n",
    "\n",
    "employee_df = pd.DataFrame({'ID': ['A001', 'A002', 'A003', 'A004', 'A005'],\n",
    "                            'Name': ['John Alter', 'Alice Luxumberg', 'Tom Sabestine', 'Nina Adgra', 'Amy Johny'],\n",
    "                            'Gender': ['M', 'F', 'M', 'F', 'F'],\n",
    "                            'City': ['Paris', 'London', 'Berlin', 'Newyork', 'Madrid',],\n",
    "                            'Age':[25, 27, 29, 31, 30]})\n",
    "\n",
    "# step 4: Create the Seniority Table as a DataFrame\n",
    "seniority_df = pd.DataFrame({'ID':['A001', 'A002', 'A003', 'A004', 'A005'],\n",
    "                             'Designation Level': [2, 2, 3, 2, 3]})\n",
    "\n",
    "\n",
    "# step 5: Save all 3 DataFrames as seprate CSV files in the current directory\n",
    "project_df.to_csv('project_table.csv', index=False)   # Save Project Table\n",
    "employee_df.to_csv('employee_table.csv', index=False)   # Save Employee Table\n",
    "seniority_df.to_csv('seniority_table.csv', index=False)   # Save Seniority Table"
   ]
  },
  {
   "cell_type": "code",
   "execution_count": 45,
   "id": "dfc9782c-eb85-4e2b-9092-3df96cddec9e",
   "metadata": {},
   "outputs": [
    {
     "name": "stdout",
     "output_type": "stream",
     "text": [
      "      ID     Project       Cost    Status\n",
      "0   A001   Project 1  1002000.0  Finished\n",
      "1   A002   Project 2  2000000.0   Ongoing\n",
      "2   A003   Project 3  4500000.0  Finished\n",
      "3   A004   Project 4  5500000.0   Ongoing\n",
      "4   A005   Project 5  3250500.0  Finished\n",
      "5   A002   Project 6   680000.0    Failed\n",
      "6   A005   Project 7   400000.0  Finished\n",
      "7   A003   Project 8   350000.0    Failed\n",
      "8   A001   Project 9  2210312.5   Ongoing\n",
      "9   A003  Project 10   300000.0  Finished\n",
      "10  A001  Project 11  2000000.0    Failed\n",
      "11  A004  Project 12  1000000.0   Ongoing\n",
      "12  A004  Project 13  3000000.0  Finished\n",
      "13  A005  Project 14   200000.0  Finished\n"
     ]
    }
   ],
   "source": [
    "# Task 2 \n",
    "\n",
    "# Step 1: Read the project table\n",
    "df = pd.read_csv('project_table.csv')\n",
    "\n",
    "# Step 2: List to store previous known cost values\n",
    "costs = []\n",
    "\n",
    "# Step 3: Loop through each row\n",
    "for i in range(len(df)):\n",
    "    if pd.isna(df.loc[i, 'Cost']):\n",
    "        # Only replace if we have previous values\n",
    "        if costs:\n",
    "            df.loc[i, 'Cost'] = sum(costs) / len(costs)\n",
    "        # else: leave it as NaN (first value or no data yet)\n",
    "    if pd.notna(df.loc[i, 'Cost']):\n",
    "        # Add the current value (original or filled) to costs\n",
    "        costs.append(df.loc[i, 'Cost'])\n",
    "\n",
    "# Step 4: Save the updated DataFrame\n",
    "df.to_csv('project_table_updated.csv', index=False)\n",
    "\n",
    "# Step 5: Print confirmation\n",
    "print(df)"
   ]
  },
  {
   "cell_type": "code",
   "execution_count": 46,
   "id": "bf1dedb0-518b-41fc-94dc-719b378e55ca",
   "metadata": {},
   "outputs": [
    {
     "name": "stdout",
     "output_type": "stream",
     "text": [
      "     ID First Name  Last Name Gender     City  Age\n",
      "0  A001       John      Alter      M    Paris   25\n",
      "1  A002      Alice  Luxumberg      F   London   27\n",
      "2  A003        Tom  Sabestine      M   Berlin   29\n",
      "3  A004       Nina      Adgra      F  Newyork   31\n",
      "4  A005        Amy      Johny      F   Madrid   30\n"
     ]
    }
   ],
   "source": [
    "# Task 3: Split the 'Name' column into two new columns \n",
    "employee_df[['First Name', 'Last Name']] = employee_df['Name'].str.split(' ',n=1, expand=True)\n",
    "# Drop the original 'Name' Column\n",
    "employee_df.drop(columns=['Name'], inplace=True)\n",
    "# Reorder columns\n",
    "employee_df = employee_df[['ID', 'First Name', 'Last Name', 'Gender', 'City', 'Age']]\n",
    "print(employee_df)"
   ]
  },
  {
   "cell_type": "code",
   "execution_count": 47,
   "id": "8b56a7cb-1acd-4197-aecf-bdac359e29ba",
   "metadata": {},
   "outputs": [
    {
     "name": "stdout",
     "output_type": "stream",
     "text": [
      "      ID First Name  Last Name Gender     City  Age  Designation Level  \\\n",
      "0   A001       John      Alter      M    Paris   25                  2   \n",
      "1   A001       John      Alter      M    Paris   25                  2   \n",
      "2   A001       John      Alter      M    Paris   25                  2   \n",
      "3   A002      Alice  Luxumberg      F   London   27                  2   \n",
      "4   A002      Alice  Luxumberg      F   London   27                  2   \n",
      "5   A003        Tom  Sabestine      M   Berlin   29                  3   \n",
      "6   A003        Tom  Sabestine      M   Berlin   29                  3   \n",
      "7   A003        Tom  Sabestine      M   Berlin   29                  3   \n",
      "8   A004       Nina      Adgra      F  Newyork   31                  2   \n",
      "9   A004       Nina      Adgra      F  Newyork   31                  2   \n",
      "10  A004       Nina      Adgra      F  Newyork   31                  2   \n",
      "11  A005        Amy      Johny      F   Madrid   30                  3   \n",
      "12  A005        Amy      Johny      F   Madrid   30                  3   \n",
      "13  A005        Amy      Johny      F   Madrid   30                  3   \n",
      "\n",
      "       Project       Cost    Status  \n",
      "0    Project 1  1002000.0  Finished  \n",
      "1    Project 9        NaN   Ongoing  \n",
      "2   Project 11  2000000.0    Failed  \n",
      "3    Project 2  2000000.0   Ongoing  \n",
      "4    Project 6   680000.0    Failed  \n",
      "5    Project 3  4500000.0  Finished  \n",
      "6    Project 8   350000.0    Failed  \n",
      "7   Project 10   300000.0  Finished  \n",
      "8    Project 4  5500000.0   Ongoing  \n",
      "9   Project 12  1000000.0   Ongoing  \n",
      "10  Project 13  3000000.0  Finished  \n",
      "11   Project 5        NaN  Finished  \n",
      "12   Project 7   400000.0  Finished  \n",
      "13  Project 14   200000.0  Finished  \n"
     ]
    }
   ],
   "source": [
    "# Task 4:\n",
    "# Step 1: Join all the three dataframe in one single dataframe. Name it 'Final'\n",
    "Final = pd.merge(employee_df, seniority_df, on='ID', how= 'inner')\n",
    "Final = pd.merge(Final, project_df,on='ID', how='inner')\n",
    "# Optional: Print the combined Final\n",
    "print(Final)"
   ]
  },
  {
   "cell_type": "code",
   "execution_count": 48,
   "id": "f2478bf8-628c-4ad1-94d6-d282ec249d9e",
   "metadata": {},
   "outputs": [
    {
     "name": "stdout",
     "output_type": "stream",
     "text": [
      "      ID First Name  Last Name Gender     City  Age  Designation Level  \\\n",
      "0   A001       John      Alter      M    Paris   25                  2   \n",
      "1   A001       John      Alter      M    Paris   25                  2   \n",
      "2   A001       John      Alter      M    Paris   25                  2   \n",
      "3   A002      Alice  Luxumberg      F   London   27                  2   \n",
      "4   A002      Alice  Luxumberg      F   London   27                  2   \n",
      "5   A003        Tom  Sabestine      M   Berlin   29                  3   \n",
      "6   A003        Tom  Sabestine      M   Berlin   29                  3   \n",
      "7   A003        Tom  Sabestine      M   Berlin   29                  3   \n",
      "8   A004       Nina      Adgra      F  Newyork   31                  2   \n",
      "9   A004       Nina      Adgra      F  Newyork   31                  2   \n",
      "10  A004       Nina      Adgra      F  Newyork   31                  2   \n",
      "11  A005        Amy      Johny      F   Madrid   30                  3   \n",
      "12  A005        Amy      Johny      F   Madrid   30                  3   \n",
      "13  A005        Amy      Johny      F   Madrid   30                  3   \n",
      "\n",
      "       Project       Cost    Status     Bonus  \n",
      "0    Project 1  1002000.0  Finished   50100.0  \n",
      "1    Project 9        NaN   Ongoing       0.0  \n",
      "2   Project 11  2000000.0    Failed       0.0  \n",
      "3    Project 2  2000000.0   Ongoing       0.0  \n",
      "4    Project 6   680000.0    Failed       0.0  \n",
      "5    Project 3  4500000.0  Finished  225000.0  \n",
      "6    Project 8   350000.0    Failed       0.0  \n",
      "7   Project 10   300000.0  Finished   15000.0  \n",
      "8    Project 4  5500000.0   Ongoing       0.0  \n",
      "9   Project 12  1000000.0   Ongoing       0.0  \n",
      "10  Project 13  3000000.0  Finished  150000.0  \n",
      "11   Project 5        NaN  Finished       NaN  \n",
      "12   Project 7   400000.0  Finished   20000.0  \n",
      "13  Project 14   200000.0  Finished   10000.0  \n"
     ]
    }
   ],
   "source": [
    "# Task 5: Assuming 'Final' DataFrame already exists\n",
    "# Assuming 'project_table' contains columns ['employee_id', 'status', 'cost']\n",
    "\n",
    "# Step 1: Add a 'Bonus' column, initialized to 0\n",
    "Final['Bonus'] = 0\n",
    "\n",
    "# Step 2: Calculate 5% bonus only if the status is 'Finished'\n",
    "Final.loc[Final['Status'].str.strip().str.lower() == 'finished', 'Bonus'] = Final['Cost'] * 0.05\n",
    "\n",
    "# Step 3: Save the updated DataFrame (optional)\n",
    "Final.to_csv('Final_table_with_bonus.csv', index=False)\n",
    "\n",
    "# Step 4: Print the result\n",
    "print(Final)"
   ]
  },
  {
   "cell_type": "code",
   "execution_count": 49,
   "id": "70d76d07-e860-4bf1-876e-39a6dabcbdce",
   "metadata": {},
   "outputs": [
    {
     "name": "stdout",
     "output_type": "stream",
     "text": [
      "      ID First Name  Last Name Gender     City  Age  Designation Level  \\\n",
      "0   A001       John      Alter      M    Paris   25                  2   \n",
      "1   A001       John      Alter      M    Paris   25                  2   \n",
      "2   A001       John      Alter      M    Paris   25                  1   \n",
      "3   A002      Alice  Luxumberg      F   London   27                  2   \n",
      "4   A002      Alice  Luxumberg      F   London   27                  1   \n",
      "5   A003        Tom  Sabestine      M   Berlin   29                  3   \n",
      "6   A003        Tom  Sabestine      M   Berlin   29                  2   \n",
      "7   A003        Tom  Sabestine      M   Berlin   29                  3   \n",
      "8   A004       Nina      Adgra      F  Newyork   31                  2   \n",
      "9   A004       Nina      Adgra      F  Newyork   31                  2   \n",
      "10  A004       Nina      Adgra      F  Newyork   31                  2   \n",
      "11  A005        Amy      Johny      F   Madrid   30                  3   \n",
      "12  A005        Amy      Johny      F   Madrid   30                  3   \n",
      "13  A005        Amy      Johny      F   Madrid   30                  3   \n",
      "\n",
      "       Project       Cost    Status     Bonus  \n",
      "0    Project 1  1002000.0  Finished   50100.0  \n",
      "1    Project 9        NaN   Ongoing       0.0  \n",
      "2   Project 11  2000000.0    Failed       0.0  \n",
      "3    Project 2  2000000.0   Ongoing       0.0  \n",
      "4    Project 6   680000.0    Failed       0.0  \n",
      "5    Project 3  4500000.0  Finished  225000.0  \n",
      "6    Project 8   350000.0    Failed       0.0  \n",
      "7   Project 10   300000.0  Finished   15000.0  \n",
      "8    Project 4  5500000.0   Ongoing       0.0  \n",
      "9   Project 12  1000000.0   Ongoing       0.0  \n",
      "10  Project 13  3000000.0  Finished  150000.0  \n",
      "11   Project 5        NaN  Finished       NaN  \n",
      "12   Project 7   400000.0  Finished   20000.0  \n",
      "13  Project 14   200000.0  Finished   10000.0  \n"
     ]
    }
   ],
   "source": [
    "# Task 6 # Step 1: Demote designation level by 1 where status is 'Failed'\n",
    "for i in range(len(Final)):\n",
    "    if str(Final.loc[i, 'Status']).strip().lower() == 'failed':  # case-insensitive check\n",
    "        Final.loc[i, 'Designation Level'] -= 1  # Demote (decrease by 1)\n",
    "\n",
    "# Step 2: Remove records where Designation Level > 4\n",
    "Final = Final[Final['Designation Level'] <= 4]\n",
    "\n",
    "# Reset index after deletion (optional but recommended)\n",
    "Final.reset_index(drop=True, inplace=True)\n",
    "\n",
    "# Print result\n",
    "print(Final)"
   ]
  },
  {
   "cell_type": "code",
   "execution_count": 33,
   "id": "3827fc9f-f65f-4fd4-a67d-646923aaf2f8",
   "metadata": {},
   "outputs": [
    {
     "name": "stdout",
     "output_type": "stream",
     "text": [
      "      ID  First Name  Last Name     City  Age  Designation Level     Project  \\\n",
      "0   A001    Mr. John      Alter    Paris   25                  2   Project 1   \n",
      "1   A001    Mr. John      Alter    Paris   25                  2   Project 9   \n",
      "2   A001    Mr. John      Alter    Paris   25                  1  Project 11   \n",
      "3   A002  Mrs. Alice  Luxumberg   London   27                  2   Project 2   \n",
      "4   A002  Mrs. Alice  Luxumberg   London   27                  1   Project 6   \n",
      "5   A003     Mr. Tom  Sabestine   Berlin   29                  3   Project 3   \n",
      "6   A003     Mr. Tom  Sabestine   Berlin   29                  2   Project 8   \n",
      "7   A003     Mr. Tom  Sabestine   Berlin   29                  3  Project 10   \n",
      "8   A004   Mrs. Nina      Adgra  Newyork   31                  2   Project 4   \n",
      "9   A004   Mrs. Nina      Adgra  Newyork   31                  2  Project 12   \n",
      "10  A004   Mrs. Nina      Adgra  Newyork   31                  2  Project 13   \n",
      "11  A005    Mrs. Amy      Johny   Madrid   30                  3   Project 5   \n",
      "12  A005    Mrs. Amy      Johny   Madrid   30                  3   Project 7   \n",
      "13  A005    Mrs. Amy      Johny   Madrid   30                  3  Project 14   \n",
      "\n",
      "         Cost    Status  \n",
      "0   1002000.0  Finished  \n",
      "1         NaN   Ongoing  \n",
      "2   2000000.0    Failed  \n",
      "3   2000000.0   Ongoing  \n",
      "4    680000.0    Failed  \n",
      "5   4500000.0  Finished  \n",
      "6    350000.0    Failed  \n",
      "7    300000.0  Finished  \n",
      "8   5500000.0   Ongoing  \n",
      "9   1000000.0   Ongoing  \n",
      "10  3000000.0  Finished  \n",
      "11        NaN  Finished  \n",
      "12   400000.0  Finished  \n",
      "13   200000.0  Finished  \n"
     ]
    }
   ],
   "source": [
    "# Task 7\n",
    "Final.columns = Final.columns.str.strip()\n",
    "# Step 1 Add 'Mr. ' or 'Mrs. ' based on Gender column\n",
    "Final['First Name'] = Final.apply(lambda row: 'Mr. ' + row['First Name'] if row['Gender'] == 'M' else 'Mrs. ' + row['First Name'], axis=1)\n",
    "# Step 2: Drop the Gender Column\n",
    "Final.drop(columns=['Gender'], inplace=True)\n",
    "# Step 3: Print final result\n",
    "print(Final)"
   ]
  },
  {
   "cell_type": "code",
   "execution_count": 34,
   "id": "513e740c-6223-4985-a4a0-8a3aa8119bd1",
   "metadata": {},
   "outputs": [
    {
     "name": "stdout",
     "output_type": "stream",
     "text": [
      "      ID  First Name  Last Name     City  Age  Designation Level     Project  \\\n",
      "0   A001    Mr. John      Alter    Paris   25                  2   Project 1   \n",
      "1   A001    Mr. John      Alter    Paris   25                  2   Project 9   \n",
      "2   A001    Mr. John      Alter    Paris   25                  1  Project 11   \n",
      "3   A002  Mrs. Alice  Luxumberg   London   27                  2   Project 2   \n",
      "4   A002  Mrs. Alice  Luxumberg   London   27                  1   Project 6   \n",
      "5   A003     Mr. Tom  Sabestine   Berlin   29                  3   Project 3   \n",
      "6   A003     Mr. Tom  Sabestine   Berlin   29                  2   Project 8   \n",
      "7   A003     Mr. Tom  Sabestine   Berlin   29                  3  Project 10   \n",
      "8   A004   Mrs. Nina      Adgra  Newyork   31                  3   Project 4   \n",
      "9   A004   Mrs. Nina      Adgra  Newyork   31                  3  Project 12   \n",
      "10  A004   Mrs. Nina      Adgra  Newyork   31                  3  Project 13   \n",
      "11  A005    Mrs. Amy      Johny   Madrid   30                  4   Project 5   \n",
      "12  A005    Mrs. Amy      Johny   Madrid   30                  4   Project 7   \n",
      "13  A005    Mrs. Amy      Johny   Madrid   30                  4  Project 14   \n",
      "\n",
      "         Cost    Status  \n",
      "0   1002000.0  Finished  \n",
      "1         NaN   Ongoing  \n",
      "2   2000000.0    Failed  \n",
      "3   2000000.0   Ongoing  \n",
      "4    680000.0    Failed  \n",
      "5   4500000.0  Finished  \n",
      "6    350000.0    Failed  \n",
      "7    300000.0  Finished  \n",
      "8   5500000.0   Ongoing  \n",
      "9   1000000.0   Ongoing  \n",
      "10  3000000.0  Finished  \n",
      "11        NaN  Finished  \n",
      "12   400000.0  Finished  \n",
      "13   200000.0  Finished  \n"
     ]
    }
   ],
   "source": [
    "# Task 8 Step 1: Promote Designation Level by 1 where Age > 29\n",
    "Final['Designation Level'] = Final.apply(\n",
    "    lambda row: row['Designation Level'] + 1 if row['Age'] > 29 else \n",
    "row['Designation Level'], \n",
    "    axis=1\n",
    ")\n",
    "# Step 2 Print the updated DataFrame\n",
    "print(Final)"
   ]
  },
  {
   "cell_type": "code",
   "execution_count": 35,
   "id": "e023a624-9345-483f-9e37-d38180335c50",
   "metadata": {},
   "outputs": [
    {
     "name": "stdout",
     "output_type": "stream",
     "text": [
      "     ID  First Name  Toatl Cost\n",
      "0  A001    Mr. John   3002000.0\n",
      "1  A002  Mrs. Alice   2680000.0\n",
      "2  A003     Mr. Tom   5150000.0\n",
      "3  A004   Mrs. Nina   9500000.0\n",
      "4  A005    Mrs. Amy    600000.0\n"
     ]
    }
   ],
   "source": [
    "# Task 9 Step 1: Group by ID and First Name and sum the Project Cost\n",
    "TotalProjCost = Final.groupby(['ID', 'First Name'])['Cost'].sum().reset_index()\n",
    "# Step 2: Rename the column \n",
    "TotalProjCost.rename(columns={'Cost': 'Toatl Cost'}, inplace=True)\n",
    "# Step 3: Print the new DataFrame\n",
    "print(TotalProjCost)"
   ]
  },
  {
   "cell_type": "code",
   "execution_count": 36,
   "id": "e34c44c9-8174-4472-8d0c-0c32ee6a92c7",
   "metadata": {},
   "outputs": [
    {
     "name": "stdout",
     "output_type": "stream",
     "text": [
      "      ID  First Name  Last Name     City  Age  Designation Level     Project  \\\n",
      "3   A002  Mrs. Alice  Luxumberg   London   27                  2   Project 2   \n",
      "4   A002  Mrs. Alice  Luxumberg   London   27                  1   Project 6   \n",
      "8   A004   Mrs. Nina      Adgra  Newyork   31                  3   Project 4   \n",
      "9   A004   Mrs. Nina      Adgra  Newyork   31                  3  Project 12   \n",
      "10  A004   Mrs. Nina      Adgra  Newyork   31                  3  Project 13   \n",
      "\n",
      "         Cost    Status  \n",
      "3   2000000.0   Ongoing  \n",
      "4    680000.0    Failed  \n",
      "8   5500000.0   Ongoing  \n",
      "9   1000000.0   Ongoing  \n",
      "10  3000000.0  Finished  \n"
     ]
    }
   ],
   "source": [
    "# Task 10: Filter employee where city name contains the letter \"o\"\n",
    "filtered_data = Final[Final['City'].str.contains('o', case=False, na=False)]\n",
    "# Print the result\n",
    "print(filtered_data)"
   ]
  },
  {
   "cell_type": "code",
   "execution_count": null,
   "id": "e81491e4-deba-4a4f-9a46-b06dbb5727b2",
   "metadata": {},
   "outputs": [],
   "source": []
  }
 ],
 "metadata": {
  "kernelspec": {
   "display_name": "Python 3 (ipykernel)",
   "language": "python",
   "name": "python3"
  },
  "language_info": {
   "codemirror_mode": {
    "name": "ipython",
    "version": 3
   },
   "file_extension": ".py",
   "mimetype": "text/x-python",
   "name": "python",
   "nbconvert_exporter": "python",
   "pygments_lexer": "ipython3",
   "version": "3.12.7"
  }
 },
 "nbformat": 4,
 "nbformat_minor": 5
}
